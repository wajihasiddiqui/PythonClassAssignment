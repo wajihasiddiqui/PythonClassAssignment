{
 "cells": [
  {
   "cell_type": "code",
   "execution_count": 2,
   "metadata": {},
   "outputs": [
    {
     "name": "stdout",
     "output_type": "stream",
     "text": [
      "Twinkle, twinkle, little star,\n",
      "\tUp above the world so high,\n",
      "\tLike a diamond in the sky.\n",
      "Twinkle, twinkle, little star,\n",
      "\tHow I wonder what you are\n"
     ]
    }
   ],
   "source": [
    "print('Twinkle, twinkle, little star,')\n",
    "print('\\t''Up above the world so high,')\n",
    "print('\\t''Like a diamond in the sky.')\n",
    "print('Twinkle, twinkle, little star,')\n",
    "print('\\t''How I wonder what you are')"
   ]
  },
  {
   "cell_type": "code",
   "execution_count": 3,
   "metadata": {},
   "outputs": [
    {
     "name": "stdout",
     "output_type": "stream",
     "text": [
      "3.7.4\n"
     ]
    }
   ],
   "source": [
    "from platform import python_version\n",
    "print(python_version())"
   ]
  },
  {
   "cell_type": "code",
   "execution_count": 4,
   "metadata": {},
   "outputs": [
    {
     "name": "stdout",
     "output_type": "stream",
     "text": [
      "Date Time Now =  2019-11-02 21:01:41.143288\n"
     ]
    }
   ],
   "source": [
    "from datetime import datetime\n",
    "DateTime = datetime.now()\n",
    "print('Date Time Now = ',DateTime)"
   ]
  },
  {
   "cell_type": "code",
   "execution_count": 5,
   "metadata": {},
   "outputs": [
    {
     "name": "stdout",
     "output_type": "stream",
     "text": [
      "Input the radius of the circle : 2\n",
      "The area of the circle with radius 2.0 is: 12.566370614359172\n"
     ]
    }
   ],
   "source": [
    "from math import pi\n",
    "radius = float(input (\"Input the radius of the circle : \"))\n",
    "print (\"The area of the circle with radius \" + str(radius) + \" is: \" + str(pi * radius**2))"
   ]
  },
  {
   "cell_type": "code",
   "execution_count": 8,
   "metadata": {},
   "outputs": [
    {
     "name": "stdout",
     "output_type": "stream",
     "text": [
      "Enter Your First Name:wajiha\n",
      "Enter Your Last Name:siddiqui\n",
      "siddiquiwajiha\n"
     ]
    }
   ],
   "source": [
    "FirstName  = input(\"Enter Your First Name:\")\n",
    "LastName   = input(\"Enter Your Last Name:\")\n",
    "print(LastName + \"\" + FirstName)"
   ]
  },
  {
   "cell_type": "code",
   "execution_count": 15,
   "metadata": {},
   "outputs": [
    {
     "name": "stdout",
     "output_type": "stream",
     "text": [
      "Enter First Number7\n",
      "Enter Second Number6\n",
      "The Sum is: 13\n"
     ]
    }
   ],
   "source": [
    "FirstNumer = int(input(\"Enter First Number\"))\n",
    "SecondNumber = int(input(\"Enter Second Number\"))\n",
    "\n",
    "Sum = FirstNumer + SecondNumber\n",
    "print(\"The Sum is:\", Sum)\n",
    "\n"
   ]
  },
  {
   "cell_type": "code",
   "execution_count": null,
   "metadata": {},
   "outputs": [],
   "source": []
  }
 ],
 "metadata": {
  "kernelspec": {
   "display_name": "Python 3",
   "language": "python",
   "name": "python3"
  },
  "language_info": {
   "codemirror_mode": {
    "name": "ipython",
    "version": 3
   },
   "file_extension": ".py",
   "mimetype": "text/x-python",
   "name": "python",
   "nbconvert_exporter": "python",
   "pygments_lexer": "ipython3",
   "version": "3.7.4"
  }
 },
 "nbformat": 4,
 "nbformat_minor": 2
}
