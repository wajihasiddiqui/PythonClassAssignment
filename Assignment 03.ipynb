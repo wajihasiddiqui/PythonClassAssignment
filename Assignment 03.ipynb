{
 "cells": [
  {
   "cell_type": "code",
   "execution_count": 1,
   "metadata": {},
   "outputs": [
    {
     "name": "stdout",
     "output_type": "stream",
     "text": [
      "1. Addition\n",
      "2. Subtraction\n",
      "3. Multiplication\n",
      "4. Division\n",
      "5. Power\n",
      "5. Exit\n",
      "Enter any Opetatipn: 2\n",
      "Enter two numbers: \n",
      "First Number is: 45\n",
      "Second Number is: 32\n",
      "Result =  13\n"
     ]
    }
   ],
   "source": [
    "print(\"1. Addition\");\n",
    "print(\"2. Subtraction\");\n",
    "print(\"3. Multiplication\");\n",
    "print(\"4. Division\");\n",
    "print(\"5. Power\")\n",
    "print(\"5. Exit\");\n",
    "\n",
    "choice = int(input(\"Enter any Opetatipn: \"));\n",
    "\n",
    "if (choice>=1 and choice<=5):\n",
    "    print(\"Enter two numbers: \");\n",
    "    num1 = int(input(\"First Number is: \"));\n",
    "    num2 = int(input(\"Second Number is: \"));\n",
    "    if choice == 1:\n",
    "        res = num1 + num2;\n",
    "        print(\"Result = \", res);\n",
    "    elif choice == 2:\n",
    "        res = num1 - num2;\n",
    "        print(\"Result = \", res);\n",
    "    elif choice == 3:\n",
    "        res = num1 * num2;\n",
    "        print(\"Result = \", res);\n",
    "    elif choice == 4:\n",
    "        res = num1 / num2;\n",
    "        print(\"Result = \", res);\n",
    "    else:\n",
    "        res = num1 ** num2;\n",
    "        print(\"Result = \", res);\n",
    "elif choice == 6:\n",
    "    exit();\n",
    "else:\n",
    "    print(\"Wrong input..!!\");\n"
   ]
  },
  {
   "cell_type": "code",
   "execution_count": 2,
   "metadata": {},
   "outputs": [
    {
     "name": "stdout",
     "output_type": "stream",
     "text": [
      "Key 0 is a numaric value : 12.0\n",
      "Key 1 is a numaric value : 67.0\n",
      "Key 2 is Not a numaric value : wajiha\n",
      "Key 3 is a numaric value : 11.0\n"
     ]
    }
   ],
   "source": [
    "List = {0:12,1:67,2:\"wajiha\",3:11}\n",
    "\n",
    "for x in List:\n",
    "    try:\n",
    "        float(List[x])\n",
    "        print(\"Key\",x,\"is a numaric value :\",float(List[x]))\n",
    "    except ValueError:\n",
    "        print(\"Key\",x,\"is Not a numaric value :\",List[x])\n",
    "        "
   ]
  },
  {
   "cell_type": "code",
   "execution_count": 3,
   "metadata": {},
   "outputs": [
    {
     "name": "stdout",
     "output_type": "stream",
     "text": [
      "{0: 45, 1: 98}\n",
      "{0: 45, 1: 98, 2: 'wajiha'}\n"
     ]
    }
   ],
   "source": [
    "List = {0:45, 1:98}\n",
    "print(List)\n",
    "List.update({2:'wajiha'})\n",
    "print(List)"
   ]
  },
  {
   "cell_type": "code",
   "execution_count": 4,
   "metadata": {},
   "outputs": [
    {
     "name": "stdout",
     "output_type": "stream",
     "text": [
      "\n",
      "90.0\n"
     ]
    }
   ],
   "source": [
    "List = {0:12,1:67,2:\"wajiha\",3:11}\n",
    "sum = 0;\n",
    "\n",
    "for x in List:\n",
    "    try:\n",
    "        sum+=float(List[x])\n",
    "        \n",
    "    except ValueError:\n",
    "        print(\"\")\n",
    "        \n",
    "print(sum)"
   ]
  },
  {
   "cell_type": "code",
   "execution_count": 7,
   "metadata": {},
   "outputs": [
    {
     "name": "stdout",
     "output_type": "stream",
     "text": [
      "Value 12 is Duplicate\n",
      "Value 67 is Duplicate\n",
      "Value 12 is Duplicate\n",
      "Value 67 is Duplicate\n"
     ]
    }
   ],
   "source": [
    "List = {0:12,1:67,2:\"wajiha\",3:11,4:12,5:67}\n",
    "\n",
    "for x in List:\n",
    "    check = List[x]\n",
    "    key = x\n",
    "    for z in List:\n",
    "        if(check == List[z] and key != z):\n",
    "            print(\"Value\",List[z],\"is Duplicate\")\n",
    " "
   ]
  },
  {
   "cell_type": "code",
   "execution_count": 8,
   "metadata": {},
   "outputs": [
    {
     "name": "stdout",
     "output_type": "stream",
     "text": [
      "Enter Key   9\n",
      "Enter Value   65\n",
      "Exist List {0: 12, 1: 67, 2: 'wajiha', 3: 11, 4: 12, 5: 67}\n",
      "After Update {0: 12, 1: 67, 2: 'wajiha', 3: 11, 4: 12, 5: 67, 9: '65'}\n"
     ]
    }
   ],
   "source": [
    "List = {0:12,1:67,2:\"wajiha\",3:11,4:12,5:67}\n",
    "\n",
    "Key = int(input(\"Enter Key   \"))\n",
    "Value = input(\"Enter Value   \")\n",
    "\n",
    "print(\"Exist List\",List)\n",
    "if Key in List.keys():\n",
    "    print(\"Key Already Exist\")\n",
    "else:\n",
    "    List.update({Key:Value})\n",
    "    print(\"After Update\",List)"
   ]
  },
  {
   "cell_type": "code",
   "execution_count": null,
   "metadata": {},
   "outputs": [],
   "source": []
  }
 ],
 "metadata": {
  "kernelspec": {
   "display_name": "Python 3",
   "language": "python",
   "name": "python3"
  },
  "language_info": {
   "codemirror_mode": {
    "name": "ipython",
    "version": 3
   },
   "file_extension": ".py",
   "mimetype": "text/x-python",
   "name": "python",
   "nbconvert_exporter": "python",
   "pygments_lexer": "ipython3",
   "version": "3.7.4"
  }
 },
 "nbformat": 4,
 "nbformat_minor": 2
}
