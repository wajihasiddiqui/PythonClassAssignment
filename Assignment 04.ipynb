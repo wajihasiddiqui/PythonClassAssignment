{
 "cells": [
  {
   "cell_type": "code",
   "execution_count": 6,
   "metadata": {},
   "outputs": [
    {
     "name": "stdout",
     "output_type": "stream",
     "text": [
      "Wajiha\n",
      "Siddiqui\n",
      "21\n",
      "Karachi\n"
     ]
    }
   ],
   "source": [
    "person = {\n",
    "    \"first_name\" : \"Wajiha\",\n",
    "    \"last_name\" : \"Siddiqui\",\n",
    "    \"age\": 21,\n",
    "    \"city\": \"Karachi\"\n",
    "}\n",
    "\n",
    "print(person[\"first_name\"])\n",
    "print(person[\"last_name\"])\n",
    "print(person[\"age\"])\n",
    "print(person[\"city\"])\n",
    "person[\"qualification\"] = \"BS(SE)\";\n",
    "person[\"qualification\"] = \"Masters\";\n",
    "del person['qualification']\n"
   ]
  },
  {
   "cell_type": "code",
   "execution_count": 7,
   "metadata": {},
   "outputs": [
    {
     "name": "stdout",
     "output_type": "stream",
     "text": [
      "Karachi\n",
      "{'country': 'Pakistan', 'population': '20 million', 'fact': 'City of Lights'}\n",
      "Hyderabad\n",
      "{'country': 'Pakistan', 'population': '10 million', 'fact': 'City of Pearls'}\n",
      "Mirpurkhas\n",
      "{'country': 'Pakistan', 'population': '12 million', 'fact': 'City of Mango Cultivation'}\n"
     ]
    }
   ],
   "source": [
    "cities = {\n",
    "    \n",
    "    \"Karachi\": {\n",
    "    \n",
    "    \"country\": \"Pakistan\",\n",
    "    \"population\": \"20 million\",\n",
    "    \"fact\": \"City of Lights\"\n",
    "    },\n",
    "\n",
    "    \"Hyderabad\": {\n",
    "    \n",
    "    \"country\": \"Pakistan\",\n",
    "    \"population\": \"10 million\",\n",
    "    \"fact\": \"City of Pearls\"\n",
    "    },\n",
    "\n",
    "    \"Mirpurkhas\": {\n",
    "    \n",
    "    \"country\": \"Pakistan\",\n",
    "    \"population\": \"12 million\",\n",
    "    \"fact\": \"City of Mango Cultivation\"\n",
    "    }\n",
    "}\n",
    "print(\"Karachi\")\n",
    "print(cities['Karachi']);\n",
    "print(\"Hyderabad\")\n",
    "print(cities['Hyderabad']);\n",
    "print(\"Mirpurkhas\")\n",
    "print(cities['Mirpurkhas']);\n"
   ]
  },
  {
   "cell_type": "code",
   "execution_count": 5,
   "metadata": {},
   "outputs": [
    {
     "name": "stdout",
     "output_type": "stream",
     "text": [
      "Enter the age of Person: 1\n",
      "Ticket is Free.\n"
     ]
    }
   ],
   "source": [
    "for w in range(3):\n",
    "    age=int(input(\"Enter the age of Person: \"));\n",
    "if age<3:\n",
    "    print(\"Ticket is Free.\");\n",
    "elif(age>3 and age<12):\n",
    "    print(\"Ticket is $10\");\n",
    "else:\n",
    "    print(\"Ticket is $15\");"
   ]
  },
  {
   "cell_type": "code",
   "execution_count": 6,
   "metadata": {},
   "outputs": [
    {
     "name": "stdout",
     "output_type": "stream",
     "text": [
      "One of my favorite books is Alice in Wonderland.\n"
     ]
    }
   ],
   "source": [
    "def favorite_book(title):\n",
    "    print(title);\n",
    "\n",
    "book_title = \"One of my favorite books is Alice in Wonderland.\";\n",
    "favorite_book(book_title);\n",
    "\n"
   ]
  },
  {
   "cell_type": "code",
   "execution_count": null,
   "metadata": {},
   "outputs": [
    {
     "name": "stdout",
     "output_type": "stream",
     "text": [
      "1 Attempt\n",
      "Guess the correct answer: \n",
      "1\n",
      "Random number is greater then your Answer.\n",
      "\n",
      "\n",
      "2 Attempt\n"
     ]
    }
   ],
   "source": [
    "import random\n",
    "random_number = random.randrange(1,31)\n",
    "for x in range(3):\n",
    "    x = x+1;\n",
    "    print(str(x) + \" \" + \"Attempt\")\n",
    "    userInput = int(input(\"Guess the correct answer: \\n\"));   \n",
    "    if(userInput==random_number):\n",
    "     print(\"Correct Answer...!\\n\\n\");\n",
    "    elif(userInput<random_number):\n",
    "     print(\"Random number is greater then your Answer.\\n\\n\");\n",
    "    elif(userInput>random_number):\n",
    "     print(\"Random number is lesser then your Answer.\\n\\n\");"
   ]
  },
  {
   "cell_type": "code",
   "execution_count": null,
   "metadata": {},
   "outputs": [],
   "source": []
  }
 ],
 "metadata": {
  "kernelspec": {
   "display_name": "Python 3",
   "language": "python",
   "name": "python3"
  },
  "language_info": {
   "codemirror_mode": {
    "name": "ipython",
    "version": 3
   },
   "file_extension": ".py",
   "mimetype": "text/x-python",
   "name": "python",
   "nbconvert_exporter": "python",
   "pygments_lexer": "ipython3",
   "version": "3.7.4"
  }
 },
 "nbformat": 4,
 "nbformat_minor": 2
}
