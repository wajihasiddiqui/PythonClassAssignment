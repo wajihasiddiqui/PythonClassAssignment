{
 "cells": [
  {
   "cell_type": "markdown",
   "metadata": {},
   "source": [
    "# Question 1:\n",
    "## Define Object Oriented Programming Language?\n",
    "### Object oriented programming is a programming paradigm which provides a means of structuring programs based on the concept of objects which can contain data and code.\n",
    "\n",
    "\n",
    "# Question 2:\n",
    "## List down the Benefits of OOP?\n",
    "### 1: Reusability.\n",
    "### 2: Security.\n",
    "### 3: Easy code maintenance.\n",
    "### 4: Information Hiding.\n",
    "### 5: Real world programming\n",
    "\n",
    "\n",
    "# Question 3:\n",
    "## Differentiate between function and method?\n",
    "\n",
    "\n",
    "### Method and a function are the same, with different terms. \n",
    "###  A method is a procedure or function in object-oriented programming.\n",
    "###  Method is called by its name\n",
    "\n",
    "###  A function is a group of reusable code which can be called anywhere in your program. It may or may not return any data.Function does not deal with Class and its instance concept.\n",
    "\n",
    "\n",
    "\n",
    "\n",
    "# Question 4:\n",
    "## Define the following terms:\n",
    "### 1. Class\n",
    "### 2. Object\n",
    "### 3. Attribute\n",
    "### 4. Behavior\n",
    "\n",
    "## Class:\n",
    "### A class is a blueprint of an object.\n",
    "\n",
    "## Object:\n",
    "### An object is an instantiation of a class.\n",
    "\n",
    "## Attribute:\n",
    "### objects contain characteristics called attributes.\n",
    "\n",
    "## Behavior:\n",
    "### Behaviors are the tasks that an object performs\n",
    "\n"
   ]
  },
  {
   "cell_type": "markdown",
   "metadata": {},
   "source": [
    "# Question 5: "
   ]
  },
  {
   "cell_type": "markdown",
   "metadata": {},
   "source": [
    "### class car():\n",
    "###    def __init__(self,Model, Color, Name, Manufacture, Price ):\n",
    "###        self.Model = Model\n",
    "###        self.Color  = Color\n",
    "###        self.Name  = Name\n",
    "###        self.Manufacture = Manufacture \n",
    "###        self.Price = Price\n",
    "###    def info(self):\n",
    "###        print(\"The Name of car is :\", self.Name)\n",
    "###        print(\"The Model of car is :\", self.Model)\n",
    "###        print(\"The Color of car is :\" ,self.Color)\n",
    "###        print(\"The Capicity of car is :\", self.Price)\n",
    "###        print(\"The Manufuncture of car is :\", self.Manufacture)\n",
    "### CarDetails = Car('2018','Red','Audi','German automobile','15000000')\n",
    "\n",
    "### print('Print Object :')\n",
    "### CarDetails.info()"
   ]
  },
  {
   "cell_type": "code",
   "execution_count": null,
   "metadata": {},
   "outputs": [],
   "source": []
  }
 ],
 "metadata": {
  "kernelspec": {
   "display_name": "Python 3",
   "language": "python",
   "name": "python3"
  }
 },
 "nbformat": 4,
 "nbformat_minor": 2
}
