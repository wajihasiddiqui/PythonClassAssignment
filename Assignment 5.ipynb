{
 "cells": [
  {
   "cell_type": "code",
   "execution_count": 5,
   "metadata": {},
   "outputs": [
    {
     "name": "stdout",
     "output_type": "stream",
     "text": [
      "Enter Value to Find Factorial:5\n",
      "Factorial of  5 = 120\n"
     ]
    }
   ],
   "source": [
    "#Q1\n",
    "\n",
    "Number = input(\"Enter Value to Find Factorial:\");\n",
    "Number = int(Number);\n",
    "def FindFactorial(Number):\n",
    "    Count=1;\n",
    "    if Number<1:\n",
    "        print(\"please enter value that is greater then one\");\n",
    "    elif Number>=1:\n",
    "        for i in range(1,Number+1):\n",
    "            Count=Count*i;\n",
    "        print(\"Factorial of \", Number , \"=\", Count);\n",
    "    else:\n",
    "        print(\"Value is Invalide\");\n",
    "FindFactorial(Number);"
   ]
  },
  {
   "cell_type": "code",
   "execution_count": 7,
   "metadata": {},
   "outputs": [
    {
     "name": "stdout",
     "output_type": "stream",
     "text": [
      "Enter String:WajIHa\n",
      "Upper case 3\n",
      "Lower case 3\n"
     ]
    }
   ],
   "source": [
    "#Q2\n",
    "\n",
    "def CountUpperLower(string):\n",
    "    upper=0;\n",
    "    lower=0;\n",
    "    for i in string:\n",
    "        if i>=\"A\" and i<=\"Z\":\n",
    "            upper +=1;\n",
    "        elif i>=\"a\" and i<=\"z\":\n",
    "            lower +=1;\n",
    "    print(\"Upper case\",upper);\n",
    "    print(\"Lower case\", lower);\n",
    "\n",
    "string = input(\"Enter String:\");\n",
    "CountUpperLower(string);"
   ]
  },
  {
   "cell_type": "code",
   "execution_count": 11,
   "metadata": {},
   "outputs": [
    {
     "name": "stdout",
     "output_type": "stream",
     "text": [
      "Enter number of element you want to enter10\n",
      "1\n",
      "2\n",
      "3\n",
      "4\n",
      "5\n",
      "6\n",
      "7\n",
      "8\n",
      "9\n",
      "10\n",
      "2, 4, 6, 8, 10, "
     ]
    }
   ],
   "source": [
    "#Question 3\n",
    "\n",
    "List = [];\n",
    "Input = int(input(\"Enter number of element you want to enter\"));\n",
    "for i in range(0, Input):\n",
    "    number= int(input());\n",
    "    List.append(number)\n",
    "#print(List);\n",
    "def EvenNum(List):\n",
    "    for number in List:\n",
    "        if number % 2==0:  \n",
    "            print(number, end =\", \");\n",
    "EvenNum(List);"
   ]
  },
  {
   "cell_type": "code",
   "execution_count": 40,
   "metadata": {},
   "outputs": [
    {
     "name": "stdout",
     "output_type": "stream",
     "text": [
      "Enter Any String To Check If Its a Palindrome or Not :Madam\n",
      "madam is Palindrome\n"
     ]
    }
   ],
   "source": [
    "#Question 4\n",
    "\n",
    "string = input(\"Enter Any String To Check If Its a Palindrome or Not :\");\n",
    "covlower = string.lower();\n",
    "\n",
    "def isPalindrome(string): \n",
    "    # Calling reverse function \n",
    "    rev = string[::-1] \n",
    "  \n",
    "    # Checking if both string are equal or not \n",
    "    if (string == rev): \n",
    "        print(string + \" is Palindrome\")\n",
    "    else:\n",
    "        print(string + \" is Not Palindrome\")\n",
    "    \n",
    "isPalindrome(covlower)"
   ]
  },
  {
   "cell_type": "code",
   "execution_count": 8,
   "metadata": {},
   "outputs": [
    {
     "name": "stdout",
     "output_type": "stream",
     "text": [
      "Enter a number : 6\n",
      "6 is not a prime number\n"
     ]
    }
   ],
   "source": [
    "#Question 5\n",
    "\n",
    "Number = int(input(\"Enter a number : \"))  \n",
    "def CheckPrime(Number):\n",
    "    if Number > 1:\n",
    "        for i in range(2,Number):\n",
    "            if (Number % i) == 0:\n",
    "                print(Number,\"is not a prime number\")\n",
    "                break\n",
    "            else:\n",
    "                print(Number,\"is a prime number\") \n",
    "                break\n",
    "    else:\n",
    "        print(Number,\"is not a prime number\") \n",
    "        \n",
    "CheckPrime(Number)"
   ]
  },
  {
   "cell_type": "code",
   "execution_count": 1,
   "metadata": {},
   "outputs": [
    {
     "name": "stdout",
     "output_type": "stream",
     "text": [
      "Enter Shopping item (exit to print Final List): Pepsi\n",
      "Enter Shopping item (exit to print Final List): Lays\n",
      "Enter Shopping item (exit to print Final List): dairy Milk\n",
      "Enter Shopping item (exit to print Final List): Cocomo\n",
      "Enter Shopping item (exit to print Final List): exit\n",
      "You purchased: Pepsi\n",
      "You purchased: Lays\n",
      "You purchased: dairy Milk\n",
      "You purchased: Cocomo\n"
     ]
    }
   ],
   "source": [
    "#Question 6\n",
    "def shoppingList(*items):\n",
    "    shoppingItems = []\n",
    "    while True:\n",
    "        item = input(\"Enter Shopping item (exit to print Final List): \")\n",
    "        if item != 'exit':\n",
    "            shoppingItems.append(item)\n",
    "        else:\n",
    "            break\n",
    "    for item in range(len(shoppingItems)):\n",
    "        print(\"You purchased: {}\".format(shoppingItems[item]))\n",
    "shoppingList()"
   ]
  },
  {
   "cell_type": "code",
   "execution_count": null,
   "metadata": {},
   "outputs": [],
   "source": []
  },
  {
   "cell_type": "code",
   "execution_count": null,
   "metadata": {},
   "outputs": [],
   "source": []
  }
 ],
 "metadata": {
  "kernelspec": {
   "display_name": "Python 3",
   "language": "python",
   "name": "python3"
  },
  "language_info": {
   "codemirror_mode": {
    "name": "ipython",
    "version": 3
   },
   "file_extension": ".py",
   "mimetype": "text/x-python",
   "name": "python",
   "nbconvert_exporter": "python",
   "pygments_lexer": "ipython3",
   "version": "3.7.4"
  }
 },
 "nbformat": 4,
 "nbformat_minor": 2
}
