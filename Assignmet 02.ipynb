{
 "cells": [
  {
   "cell_type": "code",
   "execution_count": 1,
   "metadata": {},
   "outputs": [
    {
     "name": "stdout",
     "output_type": "stream",
     "text": [
      "Enter Marks of English:  89\n",
      "Enter Marks of Physics:  98\n",
      "Enter Marks of Discrete Mathematics:  94\n",
      "Enter Marks of Fundamentals of Programming:  93\n",
      "Enter Marks of Computer Architecture:  99\n",
      "Total Marks is: 473\n",
      "Percentage is:  94.6 %\n",
      "Grade A1\n"
     ]
    }
   ],
   "source": [
    "Marks1 = int(input(\"Enter Marks of English:  \"))\n",
    "Marks2 = int(input(\"Enter Marks of Physics:  \"))\n",
    "Marks3 = int(input(\"Enter Marks of Discrete Mathematics:  \"))\n",
    "Marks4 = int(input(\"Enter Marks of Fundamentals of Programming:  \"))\n",
    "Marks5 = int(input(\"Enter Marks of Computer Architecture:  \"))\n",
    "\n",
    "Total_Marks = Marks1 + Marks2 + Marks3 + Marks4 + Marks5\n",
    "\n",
    "print(\"Total Marks is:\",Total_Marks)\n",
    "\n",
    "percentage = float(Total_Marks / 500 * 100)\n",
    "\n",
    "print(\"Percentage is: \", percentage, \"%\" )\n",
    "\n",
    "if(percentage >= 90):\n",
    "    print(\"Grade A1\")\n",
    "    \n",
    "elif(percentage >= 80 and percentage <= 90):\n",
    "    print(\"Grade A+\")\n",
    "    \n",
    "elif(percentage >= 70 and percentage <= 80):\n",
    "    print(\"Grade A\")\n",
    "    \n",
    "elif(percentage >= 60 and percentage <= 70):\n",
    "    print(\"Grade B\")\n",
    "    \n",
    "elif(percentage >= 50 and percentage <= 60):\n",
    "    print(\"Grade C\")\n",
    "    \n",
    "elif(percentage >= 40 and percentage <= 50):\n",
    "    print(\"Grade D\")\n",
    "    \n",
    "else:\n",
    "        print(\"Fail\")"
   ]
  },
  {
   "cell_type": "code",
   "execution_count": 2,
   "metadata": {},
   "outputs": [
    {
     "name": "stdout",
     "output_type": "stream",
     "text": [
      "Enter a Number6\n",
      "Number is Even 6\n"
     ]
    }
   ],
   "source": [
    "Number = input((\"Enter a Number\"))\n",
    "\n",
    "if(int(Number)%2 == 0):\n",
    "    print(\"Number is Even\", Number)\n",
    "else:\n",
    "    print(\"Number is Odd\", Number)"
   ]
  },
  {
   "cell_type": "code",
   "execution_count": 3,
   "metadata": {},
   "outputs": [
    {
     "name": "stdout",
     "output_type": "stream",
     "text": [
      "The Length of list is 11\n"
     ]
    }
   ],
   "source": [
    "list = [1,2,3,4,5,6,7,8,9,10,11]\n",
    "\n",
    "print(\"The Length of list is\",len(list))"
   ]
  },
  {
   "cell_type": "code",
   "execution_count": 4,
   "metadata": {},
   "outputs": [
    {
     "name": "stdout",
     "output_type": "stream",
     "text": [
      "66\n"
     ]
    }
   ],
   "source": [
    "list = [1,2,3,4,5,6,7,8,9,10,11]\n",
    "\n",
    "Sum = sum(list)\n",
    "\n",
    "print(Sum)\n"
   ]
  },
  {
   "cell_type": "code",
   "execution_count": 5,
   "metadata": {},
   "outputs": [
    {
     "name": "stdout",
     "output_type": "stream",
     "text": [
      "Largest Number is: 899\n"
     ]
    }
   ],
   "source": [
    "list = [45,455,6,0,0.2,899,12,63,99,3,11]\n",
    "\n",
    "print(\"Largest Number is:\", max(list)) "
   ]
  },
  {
   "cell_type": "code",
   "execution_count": 6,
   "metadata": {},
   "outputs": [
    {
     "name": "stdout",
     "output_type": "stream",
     "text": [
      "Less than 5 number 1\n",
      "Less than 5 number 1\n",
      "Less than 5 number 2\n",
      "Less than 5 number 3\n",
      "Less than 5 number 4\n",
      "Less than 5 number 3\n"
     ]
    }
   ],
   "source": [
    "list = [1, 1, 2, 3,4, 5, 8, 13, 21, 34 ,3 ,55, 89]\n",
    "    \n",
    "for x in list:\n",
    "        if (x<5):\n",
    "            print(\"Less than 5 number\", x)"
   ]
  },
  {
   "cell_type": "code",
   "execution_count": null,
   "metadata": {},
   "outputs": [],
   "source": []
  }
 ],
 "metadata": {
  "kernelspec": {
   "display_name": "Python 3",
   "language": "python",
   "name": "python3"
  },
  "language_info": {
   "codemirror_mode": {
    "name": "ipython",
    "version": 3
   },
   "file_extension": ".py",
   "mimetype": "text/x-python",
   "name": "python",
   "nbconvert_exporter": "python",
   "pygments_lexer": "ipython3",
   "version": "3.7.4"
  }
 },
 "nbformat": 4,
 "nbformat_minor": 2
}
